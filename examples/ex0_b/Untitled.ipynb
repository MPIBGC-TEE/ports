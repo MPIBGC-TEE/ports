{
 "cells": [
  {
   "cell_type": "code",
   "execution_count": 1,
   "id": "laughing-passing",
   "metadata": {},
   "outputs": [
    {
     "data": {
      "application/vnd.jupyter.widget-view+json": {
       "model_id": "f806ad73d5a349819e0b5c3692f4272d",
       "version_major": 2,
       "version_minor": 0
      },
      "text/plain": [
       "VBox(children=(HTML(value='<h2>LocalCluster</h2>'), HBox(children=(HTML(value='\\n<div>\\n  <style scoped>\\n    …"
      ]
     },
     "metadata": {},
     "output_type": "display_data"
    }
   ],
   "source": [
    "# %load server_start_cluster.py\n",
    "from dask.distributed import LocalCluster\n",
    "\n",
    "cluster = LocalCluster(\n",
    "    memory_limit='500MB' # this will be passed on to the worker\n",
    ")\n",
    "cluster\n"
   ]
  },
  {
   "cell_type": "code",
   "execution_count": 5,
   "id": "plain-carbon",
   "metadata": {},
   "outputs": [
    {
     "name": "stdout",
     "output_type": "stream",
     "text": [
      "<Client: 'tcp://127.0.0.1:34175' processes=8 threads=32, memory=4.00 GB>\n",
      "10.069197654724121\n"
     ]
    }
   ],
   "source": [
    "# %load ~/ports/examples/ex0/server_use_cluster_1.py\n",
    "from dask.distributed import Client\n",
    "client = Client(cluster)\n",
    "print(client)\n",
    "\n",
    "# do something with the client\n",
    "import dask.array\n",
    "import numpy as np\n",
    "import time \n",
    "\n",
    "sn=200\n",
    "n=400\n",
    "def f(arr):\n",
    "    for i in range(40): # keep busy\n",
    "        res = np.matmul(arr, arr)\n",
    "    return res\n",
    "\n",
    "args = [i*np.eye(n) for i in range(sn)]\n",
    "\n",
    "\n",
    "def computation():\n",
    "    ts = time.time()\n",
    "    darr = dask.array.stack(args)\n",
    "    res_arr = darr.map_blocks(f)\n",
    "    res_arr.compute()\n",
    "    print(time.time()-ts)\n",
    "\n",
    "\n",
    "computation()\n"
   ]
  },
  {
   "cell_type": "code",
   "execution_count": null,
   "id": "provincial-nomination",
   "metadata": {},
   "outputs": [],
   "source": []
  }
 ],
 "metadata": {
  "kernelspec": {
   "display_name": "Python 3",
   "language": "python",
   "name": "python3"
  },
  "language_info": {
   "codemirror_mode": {
    "name": "ipython",
    "version": 3
   },
   "file_extension": ".py",
   "mimetype": "text/x-python",
   "name": "python",
   "nbconvert_exporter": "python",
   "pygments_lexer": "ipython3",
   "version": "3.8.5"
  }
 },
 "nbformat": 4,
 "nbformat_minor": 5
}
